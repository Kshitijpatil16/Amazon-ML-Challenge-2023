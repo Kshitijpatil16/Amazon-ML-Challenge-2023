{
 "cells": [
  {
   "cell_type": "code",
   "execution_count": 1,
   "id": "5a7048a7",
   "metadata": {},
   "outputs": [],
   "source": [
    "import pandas as pd\n",
    "from sklearn.linear_model import LinearRegression\n",
    "from sklearn.metrics import mean_absolute_percentage_error\n",
    "import numpy as np\n",
    "import matplotlib.pyplot as plt\n",
    "from sklearn.model_selection import train_test_split\n",
    "from xgboost import XGBRegressor\n",
    "from sklearn import metrics\n",
    "import re\n",
    "from sklearn.feature_extraction.text import TfidfVectorizer\n",
    "from sklearn.linear_model import LogisticRegression\n",
    "from sklearn.metrics import accuracy_score\n",
    "from sklearn.metrics import r2_score\n",
    "from sklearn.preprocessing import OneHotEncoder\n",
    "from sklearn.ensemble import RandomForestRegressor"
   ]
  },
  {
   "cell_type": "code",
   "execution_count": 2,
   "id": "f71074b1",
   "metadata": {},
   "outputs": [],
   "source": [
    "train_data = pd.read_csv('train.csv')\n",
    "test_data = pd.read_csv('test.csv')"
   ]
  },
  {
   "cell_type": "code",
   "execution_count": 3,
   "id": "c6982d9d",
   "metadata": {},
   "outputs": [
    {
     "name": "stdout",
     "output_type": "stream",
     "text": [
      "         PRODUCT_ID  PRODUCT_TYPE_ID  PRODUCT_LENGTH\n",
      "count  2.249698e+06     2.249698e+06    2.249698e+06\n",
      "mean   1.499795e+06     4.000456e+03    4.071839e+03\n",
      "std    8.661944e+05     3.966146e+03    1.351685e+06\n",
      "min    1.000000e+00     0.000000e+00    1.000000e+00\n",
      "25%    7.494795e+05     2.300000e+02    5.118110e+02\n",
      "50%    1.499558e+06     2.916000e+03    6.630000e+02\n",
      "75%    2.250664e+06     6.403000e+03    1.062992e+03\n",
      "max    2.999999e+06     1.342000e+04    1.885801e+09\n"
     ]
    }
   ],
   "source": [
    "print(train_data.describe())"
   ]
  },
  {
   "cell_type": "code",
   "execution_count": 11,
   "id": "220aaada",
   "metadata": {},
   "outputs": [
    {
     "data": {
      "text/html": [
       "<div>\n",
       "<style scoped>\n",
       "    .dataframe tbody tr th:only-of-type {\n",
       "        vertical-align: middle;\n",
       "    }\n",
       "\n",
       "    .dataframe tbody tr th {\n",
       "        vertical-align: top;\n",
       "    }\n",
       "\n",
       "    .dataframe thead th {\n",
       "        text-align: right;\n",
       "    }\n",
       "</style>\n",
       "<table border=\"1\" class=\"dataframe\">\n",
       "  <thead>\n",
       "    <tr style=\"text-align: right;\">\n",
       "      <th></th>\n",
       "      <th>PRODUCT_ID</th>\n",
       "      <th>TITLE</th>\n",
       "      <th>BULLET_POINTS</th>\n",
       "      <th>DESCRIPTION</th>\n",
       "      <th>PRODUCT_TYPE_ID</th>\n",
       "      <th>PRODUCT_LENGTH</th>\n",
       "    </tr>\n",
       "  </thead>\n",
       "  <tbody>\n",
       "    <tr>\n",
       "      <th>PRODUCT_ID</th>\n",
       "      <td>1.000000</td>\n",
       "      <td>-0.017143</td>\n",
       "      <td>-0.466076</td>\n",
       "      <td>-0.446342</td>\n",
       "      <td>0.250576</td>\n",
       "      <td>0.000424</td>\n",
       "    </tr>\n",
       "    <tr>\n",
       "      <th>TITLE</th>\n",
       "      <td>-0.017143</td>\n",
       "      <td>1.000000</td>\n",
       "      <td>0.035067</td>\n",
       "      <td>0.081965</td>\n",
       "      <td>-0.030884</td>\n",
       "      <td>0.001279</td>\n",
       "    </tr>\n",
       "    <tr>\n",
       "      <th>BULLET_POINTS</th>\n",
       "      <td>-0.466076</td>\n",
       "      <td>0.035067</td>\n",
       "      <td>1.000000</td>\n",
       "      <td>0.341391</td>\n",
       "      <td>-0.242360</td>\n",
       "      <td>-0.001490</td>\n",
       "    </tr>\n",
       "    <tr>\n",
       "      <th>DESCRIPTION</th>\n",
       "      <td>-0.446342</td>\n",
       "      <td>0.081965</td>\n",
       "      <td>0.341391</td>\n",
       "      <td>1.000000</td>\n",
       "      <td>-0.195562</td>\n",
       "      <td>-0.000996</td>\n",
       "    </tr>\n",
       "    <tr>\n",
       "      <th>PRODUCT_TYPE_ID</th>\n",
       "      <td>0.250576</td>\n",
       "      <td>-0.030884</td>\n",
       "      <td>-0.242360</td>\n",
       "      <td>-0.195562</td>\n",
       "      <td>1.000000</td>\n",
       "      <td>0.000961</td>\n",
       "    </tr>\n",
       "    <tr>\n",
       "      <th>PRODUCT_LENGTH</th>\n",
       "      <td>0.000424</td>\n",
       "      <td>0.001279</td>\n",
       "      <td>-0.001490</td>\n",
       "      <td>-0.000996</td>\n",
       "      <td>0.000961</td>\n",
       "      <td>1.000000</td>\n",
       "    </tr>\n",
       "  </tbody>\n",
       "</table>\n",
       "</div>"
      ],
      "text/plain": [
       "                 PRODUCT_ID     TITLE  BULLET_POINTS  DESCRIPTION  \\\n",
       "PRODUCT_ID         1.000000 -0.017143      -0.466076    -0.446342   \n",
       "TITLE             -0.017143  1.000000       0.035067     0.081965   \n",
       "BULLET_POINTS     -0.466076  0.035067       1.000000     0.341391   \n",
       "DESCRIPTION       -0.446342  0.081965       0.341391     1.000000   \n",
       "PRODUCT_TYPE_ID    0.250576 -0.030884      -0.242360    -0.195562   \n",
       "PRODUCT_LENGTH     0.000424  0.001279      -0.001490    -0.000996   \n",
       "\n",
       "                 PRODUCT_TYPE_ID  PRODUCT_LENGTH  \n",
       "PRODUCT_ID              0.250576        0.000424  \n",
       "TITLE                  -0.030884        0.001279  \n",
       "BULLET_POINTS          -0.242360       -0.001490  \n",
       "DESCRIPTION            -0.195562       -0.000996  \n",
       "PRODUCT_TYPE_ID         1.000000        0.000961  \n",
       "PRODUCT_LENGTH          0.000961        1.000000  "
      ]
     },
     "execution_count": 11,
     "metadata": {},
     "output_type": "execute_result"
    }
   ],
   "source": [
    "train_data.corr()"
   ]
  },
  {
   "cell_type": "code",
   "execution_count": 12,
   "id": "a6ee30dc",
   "metadata": {},
   "outputs": [
    {
     "data": {
      "text/html": [
       "<div>\n",
       "<style scoped>\n",
       "    .dataframe tbody tr th:only-of-type {\n",
       "        vertical-align: middle;\n",
       "    }\n",
       "\n",
       "    .dataframe tbody tr th {\n",
       "        vertical-align: top;\n",
       "    }\n",
       "\n",
       "    .dataframe thead th {\n",
       "        text-align: right;\n",
       "    }\n",
       "</style>\n",
       "<table border=\"1\" class=\"dataframe\">\n",
       "  <thead>\n",
       "    <tr style=\"text-align: right;\">\n",
       "      <th></th>\n",
       "      <th>PRODUCT_ID</th>\n",
       "      <th>TITLE</th>\n",
       "      <th>BULLET_POINTS</th>\n",
       "      <th>DESCRIPTION</th>\n",
       "      <th>PRODUCT_TYPE_ID</th>\n",
       "      <th>PRODUCT_LENGTH</th>\n",
       "    </tr>\n",
       "  </thead>\n",
       "  <tbody>\n",
       "    <tr>\n",
       "      <th>PRODUCT_ID</th>\n",
       "      <td>1.000000</td>\n",
       "      <td>-0.017125</td>\n",
       "      <td>-0.562488</td>\n",
       "      <td>-0.530011</td>\n",
       "      <td>0.316873</td>\n",
       "      <td>0.095589</td>\n",
       "    </tr>\n",
       "    <tr>\n",
       "      <th>TITLE</th>\n",
       "      <td>-0.017125</td>\n",
       "      <td>1.000000</td>\n",
       "      <td>0.034146</td>\n",
       "      <td>0.052201</td>\n",
       "      <td>-0.023410</td>\n",
       "      <td>-0.009761</td>\n",
       "    </tr>\n",
       "    <tr>\n",
       "      <th>BULLET_POINTS</th>\n",
       "      <td>-0.562488</td>\n",
       "      <td>0.034146</td>\n",
       "      <td>1.000000</td>\n",
       "      <td>0.494510</td>\n",
       "      <td>-0.380302</td>\n",
       "      <td>-0.127709</td>\n",
       "    </tr>\n",
       "    <tr>\n",
       "      <th>DESCRIPTION</th>\n",
       "      <td>-0.530011</td>\n",
       "      <td>0.052201</td>\n",
       "      <td>0.494510</td>\n",
       "      <td>1.000000</td>\n",
       "      <td>-0.298203</td>\n",
       "      <td>-0.033470</td>\n",
       "    </tr>\n",
       "    <tr>\n",
       "      <th>PRODUCT_TYPE_ID</th>\n",
       "      <td>0.316873</td>\n",
       "      <td>-0.023410</td>\n",
       "      <td>-0.380302</td>\n",
       "      <td>-0.298203</td>\n",
       "      <td>1.000000</td>\n",
       "      <td>0.076806</td>\n",
       "    </tr>\n",
       "    <tr>\n",
       "      <th>PRODUCT_LENGTH</th>\n",
       "      <td>0.095589</td>\n",
       "      <td>-0.009761</td>\n",
       "      <td>-0.127709</td>\n",
       "      <td>-0.033470</td>\n",
       "      <td>0.076806</td>\n",
       "      <td>1.000000</td>\n",
       "    </tr>\n",
       "  </tbody>\n",
       "</table>\n",
       "</div>"
      ],
      "text/plain": [
       "                 PRODUCT_ID     TITLE  BULLET_POINTS  DESCRIPTION  \\\n",
       "PRODUCT_ID         1.000000 -0.017125      -0.562488    -0.530011   \n",
       "TITLE             -0.017125  1.000000       0.034146     0.052201   \n",
       "BULLET_POINTS     -0.562488  0.034146       1.000000     0.494510   \n",
       "DESCRIPTION       -0.530011  0.052201       0.494510     1.000000   \n",
       "PRODUCT_TYPE_ID    0.316873 -0.023410      -0.380302    -0.298203   \n",
       "PRODUCT_LENGTH     0.095589 -0.009761      -0.127709    -0.033470   \n",
       "\n",
       "                 PRODUCT_TYPE_ID  PRODUCT_LENGTH  \n",
       "PRODUCT_ID              0.316873        0.095589  \n",
       "TITLE                  -0.023410       -0.009761  \n",
       "BULLET_POINTS          -0.380302       -0.127709  \n",
       "DESCRIPTION            -0.298203       -0.033470  \n",
       "PRODUCT_TYPE_ID         1.000000        0.076806  \n",
       "PRODUCT_LENGTH          0.076806        1.000000  "
      ]
     },
     "execution_count": 12,
     "metadata": {},
     "output_type": "execute_result"
    }
   ],
   "source": [
    "train_data.corr(method='spearman')"
   ]
  },
  {
   "cell_type": "code",
   "execution_count": 6,
   "id": "83db58f6",
   "metadata": {},
   "outputs": [
    {
     "name": "stdout",
     "output_type": "stream",
     "text": [
      "0    600.0\n",
      "Name: PRODUCT_LENGTH, dtype: float64\n"
     ]
    }
   ],
   "source": [
    "mode_value = train_data['PRODUCT_LENGTH'].mode()\n",
    "print(mode_value)"
   ]
  },
  {
   "cell_type": "code",
   "execution_count": 7,
   "id": "3ea50c04",
   "metadata": {},
   "outputs": [],
   "source": [
    "from sklearn.preprocessing import LabelEncoder\n",
    "\n",
    "le = LabelEncoder()\n",
    "train_data['DESCRIPTION'] = le.fit_transform(train_data['DESCRIPTION'])\n",
    "\n",
    "# Convert the 'Feature' column from integer to float\n",
    "train_data['DESCRIPTION']  =train_data['DESCRIPTION'] .astype(float)"
   ]
  },
  {
   "cell_type": "code",
   "execution_count": 8,
   "id": "28bb92d2",
   "metadata": {},
   "outputs": [],
   "source": [
    "\n",
    "train_data['BULLET_POINTS'] = le.fit_transform(train_data['BULLET_POINTS'])\n",
    "\n",
    "# Convert the 'Feature' column from integer to float\n",
    "train_data['BULLET_POINTS']  =train_data['BULLET_POINTS'] .astype(float)"
   ]
  },
  {
   "cell_type": "code",
   "execution_count": 9,
   "id": "47cd1f1c",
   "metadata": {},
   "outputs": [],
   "source": [
    "\n",
    "train_data['TITLE'] = le.fit_transform(train_data['TITLE'])\n",
    "\n",
    "# Convert the 'Feature' column from integer to float\n",
    "train_data['TITLE']  =train_data['TITLE'] .astype(float)"
   ]
  },
  {
   "cell_type": "code",
   "execution_count": 10,
   "id": "6dc55544",
   "metadata": {},
   "outputs": [
    {
     "data": {
      "text/html": [
       "<div>\n",
       "<style scoped>\n",
       "    .dataframe tbody tr th:only-of-type {\n",
       "        vertical-align: middle;\n",
       "    }\n",
       "\n",
       "    .dataframe tbody tr th {\n",
       "        vertical-align: top;\n",
       "    }\n",
       "\n",
       "    .dataframe thead th {\n",
       "        text-align: right;\n",
       "    }\n",
       "</style>\n",
       "<table border=\"1\" class=\"dataframe\">\n",
       "  <thead>\n",
       "    <tr style=\"text-align: right;\">\n",
       "      <th></th>\n",
       "      <th>PRODUCT_ID</th>\n",
       "      <th>TITLE</th>\n",
       "      <th>BULLET_POINTS</th>\n",
       "      <th>DESCRIPTION</th>\n",
       "      <th>PRODUCT_TYPE_ID</th>\n",
       "      <th>PRODUCT_LENGTH</th>\n",
       "    </tr>\n",
       "  </thead>\n",
       "  <tbody>\n",
       "    <tr>\n",
       "      <th>0</th>\n",
       "      <td>1925202</td>\n",
       "      <td>209798.0</td>\n",
       "      <td>450338.0</td>\n",
       "      <td>745275.0</td>\n",
       "      <td>1650</td>\n",
       "      <td>2125.980000</td>\n",
       "    </tr>\n",
       "    <tr>\n",
       "      <th>1</th>\n",
       "      <td>2673191</td>\n",
       "      <td>1200569.0</td>\n",
       "      <td>392317.0</td>\n",
       "      <td>745275.0</td>\n",
       "      <td>2755</td>\n",
       "      <td>393.700000</td>\n",
       "    </tr>\n",
       "    <tr>\n",
       "      <th>2</th>\n",
       "      <td>2765088</td>\n",
       "      <td>1408667.0</td>\n",
       "      <td>466533.0</td>\n",
       "      <td>572211.0</td>\n",
       "      <td>7537</td>\n",
       "      <td>748.031495</td>\n",
       "    </tr>\n",
       "    <tr>\n",
       "      <th>3</th>\n",
       "      <td>1594019</td>\n",
       "      <td>87193.0</td>\n",
       "      <td>479203.0</td>\n",
       "      <td>204578.0</td>\n",
       "      <td>2996</td>\n",
       "      <td>787.401574</td>\n",
       "    </tr>\n",
       "    <tr>\n",
       "      <th>4</th>\n",
       "      <td>283658</td>\n",
       "      <td>1915247.0</td>\n",
       "      <td>965330.0</td>\n",
       "      <td>745275.0</td>\n",
       "      <td>6112</td>\n",
       "      <td>598.424000</td>\n",
       "    </tr>\n",
       "  </tbody>\n",
       "</table>\n",
       "</div>"
      ],
      "text/plain": [
       "   PRODUCT_ID      TITLE  BULLET_POINTS  DESCRIPTION  PRODUCT_TYPE_ID  \\\n",
       "0     1925202   209798.0       450338.0     745275.0             1650   \n",
       "1     2673191  1200569.0       392317.0     745275.0             2755   \n",
       "2     2765088  1408667.0       466533.0     572211.0             7537   \n",
       "3     1594019    87193.0       479203.0     204578.0             2996   \n",
       "4      283658  1915247.0       965330.0     745275.0             6112   \n",
       "\n",
       "   PRODUCT_LENGTH  \n",
       "0     2125.980000  \n",
       "1      393.700000  \n",
       "2      748.031495  \n",
       "3      787.401574  \n",
       "4      598.424000  "
      ]
     },
     "execution_count": 10,
     "metadata": {},
     "output_type": "execute_result"
    }
   ],
   "source": [
    "train_data.head()"
   ]
  },
  {
   "cell_type": "code",
   "execution_count": 13,
   "id": "bbdf192a",
   "metadata": {},
   "outputs": [
    {
     "data": {
      "text/plain": [
       "PRODUCT_ID         0\n",
       "TITLE              0\n",
       "BULLET_POINTS      0\n",
       "DESCRIPTION        0\n",
       "PRODUCT_TYPE_ID    0\n",
       "PRODUCT_LENGTH     0\n",
       "dtype: int64"
      ]
     },
     "execution_count": 13,
     "metadata": {},
     "output_type": "execute_result"
    }
   ],
   "source": [
    "train_data.isnull().sum()"
   ]
  },
  {
   "cell_type": "code",
   "execution_count": 14,
   "id": "ee2bc7e0",
   "metadata": {
    "scrolled": true
   },
   "outputs": [
    {
     "data": {
      "text/plain": [
       "PRODUCT_ID           int64\n",
       "TITLE              float64\n",
       "BULLET_POINTS      float64\n",
       "DESCRIPTION        float64\n",
       "PRODUCT_TYPE_ID      int64\n",
       "PRODUCT_LENGTH     float64\n",
       "dtype: object"
      ]
     },
     "execution_count": 14,
     "metadata": {},
     "output_type": "execute_result"
    }
   ],
   "source": [
    "train_data.dtypes"
   ]
  },
  {
   "cell_type": "code",
   "execution_count": 15,
   "id": "35db313d",
   "metadata": {},
   "outputs": [],
   "source": [
    "test_data['DESCRIPTION'] = le.fit_transform(test_data['DESCRIPTION'])\n",
    "\n",
    "# Convert the 'Feature' column from integer to float\n",
    "test_data['DESCRIPTION']  =test_data['DESCRIPTION'] .astype(float)"
   ]
  },
  {
   "cell_type": "code",
   "execution_count": 16,
   "id": "6957d284",
   "metadata": {},
   "outputs": [],
   "source": [
    "test_data['BULLET_POINTS'] = le.fit_transform(test_data['BULLET_POINTS'])\n",
    "\n",
    "# Convert the 'Feature' column from integer to float\n",
    "test_data['BULLET_POINTS']  =test_data['BULLET_POINTS'] .astype(float)"
   ]
  },
  {
   "cell_type": "code",
   "execution_count": 17,
   "id": "33bf9871",
   "metadata": {},
   "outputs": [],
   "source": [
    "test_data['TITLE'] = le.fit_transform(test_data['TITLE'])\n",
    "\n",
    "# Convert the 'Feature' column from integer to float\n",
    "test_data['TITLE']  =test_data['TITLE'] .astype(float)"
   ]
  },
  {
   "cell_type": "code",
   "execution_count": 18,
   "id": "7c5eb924",
   "metadata": {},
   "outputs": [
    {
     "data": {
      "text/html": [
       "<div>\n",
       "<style scoped>\n",
       "    .dataframe tbody tr th:only-of-type {\n",
       "        vertical-align: middle;\n",
       "    }\n",
       "\n",
       "    .dataframe tbody tr th {\n",
       "        vertical-align: top;\n",
       "    }\n",
       "\n",
       "    .dataframe thead th {\n",
       "        text-align: right;\n",
       "    }\n",
       "</style>\n",
       "<table border=\"1\" class=\"dataframe\">\n",
       "  <thead>\n",
       "    <tr style=\"text-align: right;\">\n",
       "      <th></th>\n",
       "      <th>PRODUCT_ID</th>\n",
       "      <th>TITLE</th>\n",
       "      <th>BULLET_POINTS</th>\n",
       "      <th>DESCRIPTION</th>\n",
       "      <th>PRODUCT_TYPE_ID</th>\n",
       "    </tr>\n",
       "  </thead>\n",
       "  <tbody>\n",
       "    <tr>\n",
       "      <th>0</th>\n",
       "      <td>604373</td>\n",
       "      <td>393756.0</td>\n",
       "      <td>355169.0</td>\n",
       "      <td>274848.0</td>\n",
       "      <td>6142</td>\n",
       "    </tr>\n",
       "    <tr>\n",
       "      <th>1</th>\n",
       "      <td>1729783</td>\n",
       "      <td>163606.0</td>\n",
       "      <td>243872.0</td>\n",
       "      <td>18130.0</td>\n",
       "      <td>1622</td>\n",
       "    </tr>\n",
       "    <tr>\n",
       "      <th>2</th>\n",
       "      <td>1871949</td>\n",
       "      <td>302369.0</td>\n",
       "      <td>134563.0</td>\n",
       "      <td>195809.0</td>\n",
       "      <td>7540</td>\n",
       "    </tr>\n",
       "    <tr>\n",
       "      <th>3</th>\n",
       "      <td>1107571</td>\n",
       "      <td>479331.0</td>\n",
       "      <td>52053.0</td>\n",
       "      <td>178367.0</td>\n",
       "      <td>12442</td>\n",
       "    </tr>\n",
       "    <tr>\n",
       "      <th>4</th>\n",
       "      <td>624253</td>\n",
       "      <td>674400.0</td>\n",
       "      <td>355169.0</td>\n",
       "      <td>274848.0</td>\n",
       "      <td>6318</td>\n",
       "    </tr>\n",
       "  </tbody>\n",
       "</table>\n",
       "</div>"
      ],
      "text/plain": [
       "   PRODUCT_ID     TITLE  BULLET_POINTS  DESCRIPTION  PRODUCT_TYPE_ID\n",
       "0      604373  393756.0       355169.0     274848.0             6142\n",
       "1     1729783  163606.0       243872.0      18130.0             1622\n",
       "2     1871949  302369.0       134563.0     195809.0             7540\n",
       "3     1107571  479331.0        52053.0     178367.0            12442\n",
       "4      624253  674400.0       355169.0     274848.0             6318"
      ]
     },
     "execution_count": 18,
     "metadata": {},
     "output_type": "execute_result"
    }
   ],
   "source": [
    "test_data.head()"
   ]
  },
  {
   "cell_type": "code",
   "execution_count": 19,
   "id": "c8eb55d8",
   "metadata": {
    "scrolled": true
   },
   "outputs": [
    {
     "data": {
      "text/plain": [
       "PRODUCT_ID         0\n",
       "TITLE              0\n",
       "BULLET_POINTS      0\n",
       "DESCRIPTION        0\n",
       "PRODUCT_TYPE_ID    0\n",
       "dtype: int64"
      ]
     },
     "execution_count": 19,
     "metadata": {},
     "output_type": "execute_result"
    }
   ],
   "source": [
    "test_data.isnull().sum()"
   ]
  },
  {
   "cell_type": "code",
   "execution_count": 20,
   "id": "73a65a90",
   "metadata": {
    "scrolled": true
   },
   "outputs": [
    {
     "data": {
      "text/plain": [
       "PRODUCT_ID           int64\n",
       "TITLE              float64\n",
       "BULLET_POINTS      float64\n",
       "DESCRIPTION        float64\n",
       "PRODUCT_TYPE_ID      int64\n",
       "dtype: object"
      ]
     },
     "execution_count": 20,
     "metadata": {},
     "output_type": "execute_result"
    }
   ],
   "source": [
    "test_data.dtypes"
   ]
  },
  {
   "cell_type": "code",
   "execution_count": 21,
   "id": "030737a4",
   "metadata": {},
   "outputs": [],
   "source": [
    "test_data['PRODUCT_LENGTH'] = 600"
   ]
  },
  {
   "cell_type": "code",
   "execution_count": 22,
   "id": "c13f63d8",
   "metadata": {},
   "outputs": [],
   "source": [
    "X_train = train_data.drop(['TITLE'], axis = 1).values\n",
    "X_test = test_data.drop(['TITLE'], axis = 1).values\n",
    "y_train = train_data['PRODUCT_LENGTH'].values"
   ]
  },
  {
   "cell_type": "code",
   "execution_count": 23,
   "id": "b3dd5a71",
   "metadata": {},
   "outputs": [
    {
     "data": {
      "text/plain": [
       "array([[1.92520200e+06, 4.50338000e+05, 7.45275000e+05, 1.65000000e+03,\n",
       "        2.12598000e+03],\n",
       "       [2.67319100e+06, 3.92317000e+05, 7.45275000e+05, 2.75500000e+03,\n",
       "        3.93700000e+02],\n",
       "       [2.76508800e+06, 4.66533000e+05, 5.72211000e+05, 7.53700000e+03,\n",
       "        7.48031495e+02],\n",
       "       ...,\n",
       "       [1.98778600e+06, 2.79205000e+05, 6.94597000e+05, 1.57400000e+03,\n",
       "        1.20000000e+03],\n",
       "       [1.16575400e+06, 9.65330000e+05, 7.45275000e+05, 5.92000000e+02,\n",
       "        2.90000000e+03],\n",
       "       [1.07266600e+06, 2.44620000e+05, 5.64190000e+05, 7.36700000e+03,\n",
       "        2.00000000e+03]])"
      ]
     },
     "execution_count": 23,
     "metadata": {},
     "output_type": "execute_result"
    }
   ],
   "source": [
    "X_train"
   ]
  },
  {
   "cell_type": "code",
   "execution_count": 24,
   "id": "add0a677",
   "metadata": {},
   "outputs": [
    {
     "data": {
      "text/plain": [
       "array([[6.043730e+05, 3.551690e+05, 2.748480e+05, 6.142000e+03,\n",
       "        6.000000e+02],\n",
       "       [1.729783e+06, 2.438720e+05, 1.813000e+04, 1.622000e+03,\n",
       "        6.000000e+02],\n",
       "       [1.871949e+06, 1.345630e+05, 1.958090e+05, 7.540000e+03,\n",
       "        6.000000e+02],\n",
       "       ...,\n",
       "       [8.415290e+05, 3.588100e+04, 7.729000e+03, 1.064500e+04,\n",
       "        6.000000e+02],\n",
       "       [1.190194e+06, 1.563020e+05, 1.224480e+05, 1.268000e+04,\n",
       "        6.000000e+02],\n",
       "       [1.040810e+06, 1.151850e+05, 1.786900e+05, 0.000000e+00,\n",
       "        6.000000e+02]])"
      ]
     },
     "execution_count": 24,
     "metadata": {},
     "output_type": "execute_result"
    }
   ],
   "source": [
    "X_test"
   ]
  },
  {
   "cell_type": "code",
   "execution_count": 25,
   "id": "810a960e",
   "metadata": {},
   "outputs": [
    {
     "data": {
      "text/plain": [
       "array([2125.98     ,  393.7      ,  748.0314953, ..., 1200.       ,\n",
       "       2900.       , 2000.       ])"
      ]
     },
     "execution_count": 25,
     "metadata": {},
     "output_type": "execute_result"
    }
   ],
   "source": [
    "y_train"
   ]
  },
  {
   "cell_type": "code",
   "execution_count": 26,
   "id": "dde6e27a",
   "metadata": {},
   "outputs": [
    {
     "data": {
      "text/plain": [
       "XGBRegressor(base_score=None, booster=None, callbacks=None,\n",
       "             colsample_bylevel=None, colsample_bynode=None,\n",
       "             colsample_bytree=None, early_stopping_rounds=None,\n",
       "             enable_categorical=False, eval_metric=None, feature_types=None,\n",
       "             gamma=None, gpu_id=None, grow_policy=None, importance_type=None,\n",
       "             interaction_constraints=None, learning_rate=None, max_bin=None,\n",
       "             max_cat_threshold=None, max_cat_to_onehot=None,\n",
       "             max_delta_step=None, max_depth=None, max_leaves=None,\n",
       "             min_child_weight=None, missing=nan, monotone_constraints=None,\n",
       "             n_estimators=100, n_jobs=None, num_parallel_tree=None,\n",
       "             predictor=None, random_state=None, ...)"
      ]
     },
     "execution_count": 26,
     "metadata": {},
     "output_type": "execute_result"
    }
   ],
   "source": [
    "model = XGBRegressor(verbosity = 0)\n",
    "model.fit(X_train, y_train)"
   ]
  },
  {
   "cell_type": "code",
   "execution_count": 27,
   "id": "25719b77",
   "metadata": {},
   "outputs": [],
   "source": [
    "y_pred = model.predict(X_test)"
   ]
  },
  {
   "cell_type": "code",
   "execution_count": 28,
   "id": "7b60b118",
   "metadata": {},
   "outputs": [
    {
     "data": {
      "text/plain": [
       "array([591.6246, 591.6246, 591.6246, ..., 591.6246, 591.6246, 591.6246],\n",
       "      dtype=float32)"
      ]
     },
     "execution_count": 28,
     "metadata": {},
     "output_type": "execute_result"
    }
   ],
   "source": [
    "y_pred"
   ]
  },
  {
   "cell_type": "code",
   "execution_count": 29,
   "id": "22ee716e",
   "metadata": {},
   "outputs": [],
   "source": [
    "submission = pd.DataFrame({'PRODUCT_ID': test_data['PRODUCT_ID'], 'PRODUCT_LENGTH': y_pred})\n",
    "submission.to_csv('Heracross_submission.csv', index=False)"
   ]
  }
 ],
 "metadata": {
  "kernelspec": {
   "display_name": "Python 3 (ipykernel)",
   "language": "python",
   "name": "python3"
  },
  "language_info": {
   "codemirror_mode": {
    "name": "ipython",
    "version": 3
   },
   "file_extension": ".py",
   "mimetype": "text/x-python",
   "name": "python",
   "nbconvert_exporter": "python",
   "pygments_lexer": "ipython3",
   "version": "3.9.12"
  }
 },
 "nbformat": 4,
 "nbformat_minor": 5
}
